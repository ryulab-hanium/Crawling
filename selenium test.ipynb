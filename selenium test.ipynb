{
 "cells": [
  {
   "cell_type": "code",
   "execution_count": null,
   "metadata": {},
   "outputs": [],
   "source": [
    "#http://parking.seoul.go.kr/\n",
    "from selenium import webdriver\n",
    "from bs4 import BeautifulSoup\n",
    "import time\n",
    "from pprint import pprint\n",
    "from multiprocessing import Pool \n",
    "\n",
    "#cf) 매개변수 district_index 2~26까지 2는 강남구 26 중랑구\n",
    "def getSearchResults(district_index):\n",
    "    driver = webdriver.Chrome('chromedriver')\n",
    "    driver.get(\"http://parking.seoul.go.kr\")\n",
    "    #검색조건 체크박스 찾기\n",
    "    search = driver.find_element_by_xpath('//*[@id=\"inpBox2\"]/div[1]/a')\n",
    "    search.click()\n",
    "    #검색조건 체크박스중 district_index번째 li태그(해당구)클릭\n",
    "    search_checkbox = driver.find_element_by_xpath('//*[@id=\"inpBox2\"]/div[1]/ul/li['+district_index+']/a')\n",
    "    search_checkbox.click()\n",
    "    #검색버튼 클릭\n",
    "    search_submit = driver.find_element_by_xpath('//*[@id=\"parking_search\"]')\n",
    "    search_submit.click()\n",
    "    time.sleep(3)\n",
    "    result = driver.find_elements_by_css_selector('#pk_search_view > ul a')\n",
    "    for result_li in result:\n",
    "        result_li.click();\n",
    "        time.sleep(0.1)\n",
    "        soup = BeautifulSoup(driver.page_source, 'html.parser')\n",
    "        detail_box=soup.select('.pop_detail')[0]\n",
    "        #data.append(detail_box)\n",
    "        print(detail_box)    \n",
    "\n",
    "if __name__ == '__main__':\n",
    "    start_time = time.time()\n",
    "    pool = Pool(processes=2) # 4개의 프로세스를 사용합니다.\n",
    "    pool.map(getSearchResults,[2,3] ) # get_contetn 함수를 넣어줍시다.\n",
    "    print(\"--- %s seconds ---\" % (time.time() - start_time))"
   ]
  }
 ],
 "metadata": {
  "kernelspec": {
   "display_name": "Python 3",
   "language": "python",
   "name": "python3"
  },
  "language_info": {
   "codemirror_mode": {
    "name": "ipython",
    "version": 3
   },
   "file_extension": ".py",
   "mimetype": "text/x-python",
   "name": "python",
   "nbconvert_exporter": "python",
   "pygments_lexer": "ipython3",
   "version": "3.7.3"
  }
 },
 "nbformat": 4,
 "nbformat_minor": 2
}
